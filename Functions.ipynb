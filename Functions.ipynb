{
  "cells": [
    {
      "cell_type": "markdown",
      "metadata": {
        "id": "view-in-github",
        "colab_type": "text"
      },
      "source": [
        "<a href=\"https://colab.research.google.com/github/PX2145-2025/week-2-b-evans-gruff/blob/main/Functions.ipynb\" target=\"_parent\"><img src=\"https://colab.research.google.com/assets/colab-badge.svg\" alt=\"Open In Colab\"/></a>"
      ]
    },
    {
      "cell_type": "markdown",
      "metadata": {
        "id": "wcYzdesOG2DB"
      },
      "source": [
        "# Feedback for week 1 and other and hints\n",
        "\n",
        "We are working with [Jupyter notebooks](https://jupyter.org/). You can either run those in the [Google Colab](https://colab.research.google.com/notebooks/intro.ipynb) environment, or on your own computer with [Anaconda3](https://www.anaconda.com/distribution/#download-section).\n",
        "\n",
        "1. Be careful about your environment remembering variables. Make sure your code works in a new _clean_ environment. In Colab: `Runtime`->`restart Runtime`, in Anaconda's Jupyter: `Kernel`->`Restart`.\n",
        "2. Graphs without labels (or units when appropriate) are not worth any point.\n",
        "4. If you are using `loadtxt()` to read in from a file where the numbers are separated by commas, you need to use the keyword `delimiter=','`.\n",
        "5. If you are asked to plot a function (for example $y = x^2$ in question 2 last week, or the 2D function of question 3) you will need to think for yourself the best way to do this - deciding the number of points and the range of values etc.\n",
        "6. Always explore the options of Python functions using the in-built help or refer to https://docs.scipy.org/ and https://www.python.org/doc/.\n",
        "\n",
        "For this week we will need the following imports:"
      ]
    },
    {
      "cell_type": "code",
      "execution_count": null,
      "metadata": {
        "id": "3C4LDHUkG2DC"
      },
      "outputs": [],
      "source": [
        "from numpy import array,sqrt,pi,sin"
      ]
    },
    {
      "cell_type": "markdown",
      "metadata": {
        "id": "RLIIkmraG2DG"
      },
      "source": [
        "# Introduction\n",
        "\n",
        "In this worksheet we’ll introduce Python functions. Functions are important in any programming language since they enable code to be simply re-used in a program (and other programs). They also help break up complex problems into simpler pieces and therefore make the code simpler and clearer.\n",
        "Functions are most easily understood by example:\n",
        "## Simple functions\n",
        "Run the following code:"
      ]
    },
    {
      "cell_type": "code",
      "execution_count": null,
      "metadata": {
        "colab": {
          "base_uri": "https://localhost:8080/",
          "height": 68
        },
        "id": "AbUJtLHMG2DH",
        "outputId": "a285bdb6-cf40-4275-dd8a-9ffffdaedb97"
      },
      "outputs": [
        {
          "name": "stdout",
          "output_type": "stream",
          "text": [
            "Cube of 3.1 is 29.791000000000004\n",
            "Cube of 3.1 is 29.791000000000004\n",
            "Cube of 1.3 is 2.1970000000000005\n"
          ]
        }
      ],
      "source": [
        "def cube(x):\n",
        "    \"\"\"\n",
        "    Return the cube of x\n",
        "    >>> cube(3)\n",
        "    27\n",
        "    \"\"\"\n",
        "    return x * x * x\n",
        "\n",
        "x = 3.1\n",
        "print('Cube of', x, 'is', cube(x))\n",
        "'''\n",
        "Of course, we don't have to use the same variable name 'x'. This is\n",
        "a 'dummy variable' in the function.\n",
        "'''\n",
        "y = 3.1\n",
        "print('Cube of', y, 'is', cube(y))\n",
        "\n",
        "print('Cube of', 1.3, 'is', cube(1.3))"
      ]
    },
    {
      "cell_type": "markdown",
      "metadata": {
        "id": "amaQagttG2DL"
      },
      "source": [
        "The keyword `def` marks the start of the definition of a function. This is followed by the name of the function and any parameters that are to be passed into the function. The keyword `return` is used if the function needs to return parameters. Not all functions will need to do this - they might just perform a series of actions. For example:"
      ]
    },
    {
      "cell_type": "code",
      "execution_count": null,
      "metadata": {
        "colab": {
          "base_uri": "https://localhost:8080/",
          "height": 34
        },
        "id": "tnzUNcKTG2DM",
        "outputId": "1b352c13-1d91-4126-abb7-c5b6a58d9eec"
      },
      "outputs": [
        {
          "name": "stdout",
          "output_type": "stream",
          "text": [
            "Cube of 3 is 27\n"
          ]
        }
      ],
      "source": [
        "# Define a simple function ...\n",
        "def print_cube(x):\n",
        "    \"\"\"\n",
        "    Prints the cube of x\n",
        "    >>> print_cube(3)\n",
        "    Cube of 3 is 27\n",
        "    \"\"\"\n",
        "    print ('Cube of', x, 'is', x * x * x)\n",
        "\n",
        "print_cube(3)"
      ]
    },
    {
      "cell_type": "markdown",
      "metadata": {
        "id": "DsU6dZZzG2DO"
      },
      "source": [
        "What do you expect the following code snippet will print out?"
      ]
    },
    {
      "cell_type": "code",
      "execution_count": null,
      "metadata": {
        "colab": {
          "base_uri": "https://localhost:8080/",
          "height": 51
        },
        "id": "-tS7arGDG2DP",
        "outputId": "f51bcfca-5a84-4a3a-af59-1b372be520d6"
      },
      "outputs": [
        {
          "name": "stdout",
          "output_type": "stream",
          "text": [
            "Original value 2\n",
            "After function call 2\n"
          ]
        }
      ],
      "source": [
        "# Define a simple function ...\n",
        "def quad(x):\n",
        "    \"\"\"\n",
        "    Return the fourth power of x\n",
        "    >>> quad(3)\n",
        "    81\n",
        "    \"\"\"\n",
        "    x = x**4\n",
        "    return x\n",
        "\n",
        "x = 2\n",
        "print('Original value', x)\n",
        "quad(x)\n",
        "print('After function call', x)"
      ]
    },
    {
      "cell_type": "markdown",
      "metadata": {
        "id": "F2eRolK7G2DU"
      },
      "source": [
        "**Note**: the functions above have a short string describing what they do, and give an example of how to use them. Writing the function documation that way in `python` has two advanges. First, it will get picked up by built-in help systems, and second it can get run automatically by software that check the health of the code. We are using such a software, [doctest](https://docs.python.org/3/library/doctest.html#module-doctest), in this classroom setup. So in this latest example, `doctest` tries to run `quad(3)` and checks if the answer is indeed `81`. There are such tests included in the exercises. Don't remove them, they are here to help you iterate over the right solution.\n",
        "\n",
        "Functions can be rather flexible in how they work. For example, we can define a simple function which is a linear function of an input variable x, and it will work for both a simple variable or an array:"
      ]
    },
    {
      "cell_type": "code",
      "execution_count": null,
      "metadata": {
        "colab": {
          "base_uri": "https://localhost:8080/",
          "height": 51
        },
        "id": "9BS0CzDNG2DV",
        "outputId": "a71cae57-387d-4f20-999b-595d516267e8"
      },
      "outputs": [
        {
          "name": "stdout",
          "output_type": "stream",
          "text": [
            "Cube of 3 is 27\n",
            "3.4\n"
          ]
        }
      ],
      "source": [
        "# Define a simple function ...\n",
        "def print_cube(x):\n",
        "    \"\"\"\n",
        "    Prints the cube of x\n",
        "    >>> print_cube(3)\n",
        "    Cube of 3 is 27\n",
        "    \"\"\"\n",
        "    print('Cube of', x, 'is', x * x * x)\n",
        "\n",
        "print_cube(3)\n",
        "\n",
        "# Define a less simple function ...\n",
        "def linear(x, m, c):\n",
        "    '''\n",
        "    This returns a linear function of a variable x\n",
        "    '''\n",
        "    return m*x + c\n",
        "\n",
        "x = 1.2\n",
        "y = linear(x, 2, 1)\n",
        "print(y)"
      ]
    },
    {
      "cell_type": "code",
      "execution_count": null,
      "metadata": {
        "colab": {
          "base_uri": "https://localhost:8080/",
          "height": 34
        },
        "id": "pLb4X8k3G2DX",
        "outputId": "8adbee6a-6006-435e-fe37-5867ff45ea7d"
      },
      "outputs": [
        {
          "name": "stdout",
          "output_type": "stream",
          "text": [
            "[ 1.  3.  5.  7.  9. 11. 13. 15.]\n"
          ]
        }
      ],
      "source": [
        "# Create a data array ...\n",
        "x = array([ 0.0, 1.0, 2.0, 3.0, 4.0, 5.0, 6.0, 7.0 ])\n",
        "y = linear(x, 2, 1)\n",
        "print(y)"
      ]
    },
    {
      "cell_type": "markdown",
      "metadata": {
        "id": "BPxpC6iJG2Da"
      },
      "source": [
        "## More about functions\n",
        "Sometimes, there can be lots of variables that remain the same when calling a function. If that’s the case you can simplify the syntax a bit. For example, let’s write a function to find how long it takes a mass to hit the ground when dropped (from rest) from a height h. The function will look like:"
      ]
    },
    {
      "cell_type": "code",
      "execution_count": null,
      "metadata": {
        "id": "Zhs4BHHCG2Da"
      },
      "outputs": [],
      "source": [
        "def T(h, g):\n",
        "    '''\n",
        "    Returns fall time [s] of a mass released from a height\n",
        "    h [m] above the Earth's surface. g in ms^-2.\n",
        "    '''\n",
        "    return sqrt(2*h/g)"
      ]
    },
    {
      "cell_type": "markdown",
      "metadata": {
        "id": "eiKjxDt-G2Dc"
      },
      "source": [
        "This is called as follows:"
      ]
    },
    {
      "cell_type": "code",
      "execution_count": null,
      "metadata": {
        "colab": {
          "base_uri": "https://localhost:8080/",
          "height": 34
        },
        "id": "jUWeQGAgG2Dd",
        "outputId": "c25b0d51-08ce-4f9d-b043-e59c7c0ae274"
      },
      "outputs": [
        {
          "name": "stdout",
          "output_type": "stream",
          "text": [
            "Time from 1 metre is 0.4517539514526256 s\n"
          ]
        }
      ],
      "source": [
        "height = 1  # metre\n",
        "print ('Time from', height, 'metre', 'is' , T(height, 9.8),'s')"
      ]
    },
    {
      "cell_type": "markdown",
      "metadata": {
        "id": "pM_SOHN6G2Df"
      },
      "source": [
        "You *could* program this with a hard-coded value for g, to make the function call simpler:"
      ]
    },
    {
      "cell_type": "code",
      "execution_count": null,
      "metadata": {
        "colab": {
          "base_uri": "https://localhost:8080/",
          "height": 34
        },
        "id": "dyxgqYqKG2Df",
        "outputId": "604380fa-ab99-42a2-c70d-b18fdd281d47"
      },
      "outputs": [
        {
          "name": "stdout",
          "output_type": "stream",
          "text": [
            "Time from 1 metre is 0.4515236409857309 s\n"
          ]
        }
      ],
      "source": [
        "def T(h):\n",
        "    '''\n",
        "    Returns fall time [s] of a mass released from a height\n",
        "    h [m] above the Earth's surface.\n",
        "    '''\n",
        "    g=9.81 # in ms^-2\n",
        "    return sqrt(2*h/g)\n",
        "\n",
        "height = 1 # metre\n",
        "print ('Time from', height, 'metre', 'is' , T(height),'s')"
      ]
    },
    {
      "cell_type": "markdown",
      "metadata": {
        "id": "qc7y9fojG2Dk"
      },
      "source": [
        "but then of course it wouldn’t work for Mars’ gravity. A better way is"
      ]
    },
    {
      "cell_type": "code",
      "execution_count": null,
      "metadata": {
        "colab": {
          "base_uri": "https://localhost:8080/",
          "height": 51
        },
        "id": "Fm2wr1XyG2Dk",
        "outputId": "d04d053d-471a-4e85-bd62-9feb2e5950d3"
      },
      "outputs": [
        {
          "name": "stdout",
          "output_type": "stream",
          "text": [
            "Time from 1 metre on Earth is 0.4515236409857309 s\n",
            "Time from 1 metre on Mars is 0.7352146220938077 s\n"
          ]
        }
      ],
      "source": [
        "def T(h, g=9.81):\n",
        "    '''\n",
        "    Returns fall time [s] of a mass released from a height\n",
        "    h [m] above a planet's surface. Default g is 9.81 ms^-2\n",
        "    '''\n",
        "    return sqrt(2*h/g)\n",
        "\n",
        "height = 1  # metre\n",
        "print('Time from', height, 'metre', 'on Earth is' , T(height),'s')\n",
        "print('Time from', height, 'metre', 'on Mars is' , T(height, g=3.7),'s')"
      ]
    },
    {
      "cell_type": "code",
      "execution_count": null,
      "metadata": {
        "id": "OCQs8KwekZKT",
        "outputId": "7d1ce72d-0c8f-4ebe-b07c-a5c263b22ac9"
      },
      "outputs": [
        {
          "name": "stdout",
          "output_type": "stream",
          "text": [
            "Time from 1 metre on Earth is 0.4515236409857309 s\n",
            "Time from 2 metre on Earth is 0.638550856814101 s\n",
            "Time from 5 metre on Earth is 1.0096375546923044 s\n",
            "Time from 10 metre on Earth is 1.4278431229270645 s\n"
          ]
        }
      ],
      "source": [
        "for height in [1,2,5,10]:\n",
        "    print('Time from', height, 'metre', 'on Earth is' , T(height),'s')"
      ]
    },
    {
      "cell_type": "markdown",
      "metadata": {
        "id": "OcYE3uDWG2Dm"
      },
      "source": [
        "You can easily extend this to any number of variables. **IMPORTANT**: remember, documentation is part of the code. You should always add a description of a function, especially its inputs and outputs.\n",
        "## Formatting - a reminder\n",
        "You’ll often want to control the number of significant figures that you print out, or use scientific rather than floating point representation of numbers. Remember that you can achieve this in the following ways for example:"
      ]
    },
    {
      "cell_type": "code",
      "execution_count": null,
      "metadata": {
        "colab": {
          "base_uri": "https://localhost:8080/",
          "height": 68
        },
        "id": "NIdPD-snG2Dn",
        "outputId": "8085a744-7c77-418e-eb5c-aaf24cce043f"
      },
      "outputs": [
        {
          "name": "stdout",
          "output_type": "stream",
          "text": [
            "pi is approximately 3.142.\n",
            "pi is approximately 3.142.\n",
            "8.7 75.90 661.2316\n"
          ]
        }
      ],
      "source": [
        "# recommended method\n",
        "print('pi is approximately {0:.3f}.'.format(pi))\n",
        "# old method you'll see in some code\n",
        "print('pi is approximately %5.3f.' % pi)\n",
        "# the new method is quite powerful ...\n",
        "x = 8.712\n",
        "print('{0:3.1f} {1:3.2f} {2:3.4f}'.format(x, x*x, x*x*x))"
      ]
    },
    {
      "cell_type": "markdown",
      "metadata": {
        "id": "tWtA6Nr9G2Dq"
      },
      "source": [
        "## Packages and functions\n",
        "You’ve already used functions before of course, if not defined them. Some of these functions can be imported by default at the start of your program. But to import extra functions that are not available we have to use something like:"
      ]
    },
    {
      "cell_type": "code",
      "execution_count": null,
      "metadata": {
        "id": "lXpVdGTAG2Dr"
      },
      "outputs": [],
      "source": [
        "from scipy import integrate"
      ]
    },
    {
      "cell_type": "markdown",
      "metadata": {
        "id": "m41_kAklG2Du"
      },
      "source": [
        "You saw this used when doing numerical integration in PX1224 last year. It’s often convenient to save your own functions in ‘packages’ (or ‘modules’) for future use. This way, if you develop lots of useful functions you have them simply available.\n",
        "\n",
        "Let’s test this out. We will save the following python code in a file called `px2134.py`:\n",
        "\n",
        "```python\n",
        "# A test of writing a simple package.\n",
        "# Define a simple function ...\n",
        "def mycube(x):\n",
        "    return x * x * x\n",
        "```\n",
        "\n",
        "The cell below is saving this code to the `px2134.py` file. In this class we will do this within the notebook to keep all in the same place. But in general one can simply create this `.py` file, (called a _python script_) with any editor one likes (you have used Spyder last year)."
      ]
    },
    {
      "cell_type": "code",
      "execution_count": null,
      "metadata": {
        "id": "3zAPvMWLkZKT",
        "outputId": "d5b6cd71-03b3-4ca9-ae6a-ab27f9aa78ba"
      },
      "outputs": [
        {
          "name": "stdout",
          "output_type": "stream",
          "text": [
            "Writing px2134.py\n"
          ]
        }
      ],
      "source": [
        "%%writefile px2134.py\n",
        "\n",
        "# A test of writing a simple package.\"\n",
        "# Define a simple function ...\"\n",
        "def mycube(x):\n",
        "    return x * x * x\n"
      ]
    },
    {
      "cell_type": "markdown",
      "metadata": {
        "id": "61jkBamaKcxL"
      },
      "source": [
        "You can test out the code like this:"
      ]
    },
    {
      "cell_type": "code",
      "execution_count": null,
      "metadata": {
        "colab": {
          "base_uri": "https://localhost:8080/",
          "height": 34
        },
        "id": "wJJuLLtrG2Du",
        "outputId": "350819db-6105-43e2-99c6-f2cbe14030f4"
      },
      "outputs": [
        {
          "name": "stdout",
          "output_type": "stream",
          "text": [
            "Cube of 3.1 is 29.791000000000004\n"
          ]
        }
      ],
      "source": [
        "from px2134 import *\n",
        "x = 3.1\n",
        "print ('Cube of', x, 'is', mycube(x))"
      ]
    },
    {
      "cell_type": "markdown",
      "metadata": {
        "id": "e4SvOSt1G2Dw"
      },
      "source": [
        "Generally, it’s better not to import everything in one go, which is what the syntax `from <some_package import> *` does. It’s nicer to know (i) what you are importing and (ii) where it comes from, especially if you are importing several modules. The better syntax to employ is:"
      ]
    },
    {
      "cell_type": "code",
      "execution_count": null,
      "metadata": {
        "colab": {
          "base_uri": "https://localhost:8080/",
          "height": 34
        },
        "id": "b3ZUtAloG2Dw",
        "outputId": "9668503b-906f-4fb3-c2a0-85367bfbdc98"
      },
      "outputs": [
        {
          "name": "stdout",
          "output_type": "stream",
          "text": [
            "27\n"
          ]
        }
      ],
      "source": [
        "from px2134 import mycube # Imports just this function\n",
        "print (cube(3))\n",
        "from math import log, exp # Imports several functions"
      ]
    },
    {
      "cell_type": "markdown",
      "metadata": {
        "id": "ltztnJFHG2D0"
      },
      "source": [
        "Often, you will see packages imported like this:"
      ]
    },
    {
      "cell_type": "code",
      "execution_count": null,
      "metadata": {
        "colab": {
          "base_uri": "https://localhost:8080/",
          "height": 34
        },
        "id": "qcGCvifnG2D0",
        "outputId": "42f4943f-beb5-40b6-f31b-39fcf3b7e5b9"
      },
      "outputs": [
        {
          "name": "stdout",
          "output_type": "stream",
          "text": [
            "27\n"
          ]
        }
      ],
      "source": [
        "import px2134 # Imports the package itself\n",
        "print (px2134.mycube(3)) # But functions then need to be called like this"
      ]
    },
    {
      "cell_type": "markdown",
      "metadata": {
        "id": "CRr9-bzAG2D2"
      },
      "source": [
        "You can make it a bit nicer by having a name of your choice when importing:"
      ]
    },
    {
      "cell_type": "code",
      "execution_count": null,
      "metadata": {
        "colab": {
          "base_uri": "https://localhost:8080/",
          "height": 34
        },
        "id": "t09udDr5G2D2",
        "outputId": "6fff707c-ba65-46c9-e757-24219edfc5cf"
      },
      "outputs": [
        {
          "name": "stdout",
          "output_type": "stream",
          "text": [
            "27\n"
          ]
        }
      ],
      "source": [
        "import px2134 as px # Imports the package\n",
        "print (px.mycube(3)) # Functions called like this"
      ]
    },
    {
      "cell_type": "markdown",
      "metadata": {
        "id": "Z9PJ7ZvCG2D4"
      },
      "source": [
        "Large packages are often split into smaller sub-packages, called modules. A module within a larger package is referred to as `packagename.modulename`. There are many useful mathematical facilities available in the numpy package - e.g. linear algebra and Fourier transform modules. Thus the linear algebra module is called `numpy.linalg` and the (fast) Fourier transform module is called `numpy.fft`. We can import a function from a module like this:"
      ]
    },
    {
      "cell_type": "code",
      "execution_count": null,
      "metadata": {
        "id": "QYZSzW-zG2D5"
      },
      "outputs": [],
      "source": [
        "from numpy.linalg import inv"
      ]
    },
    {
      "cell_type": "markdown",
      "metadata": {
        "caption": "function diagrams",
        "id": "_CWMKP7GG2D7",
        "label": "fig:functions",
        "widefigure": true
      },
      "source": [
        "## Thinking about functions\n",
        "When functions are new to you it is easy to fall into the trap of using them poorly. You should always keep in mind that functions are for simplifying programs by providing a *re-usable* piece of code. They therefore MUST be self-contained and have a well-defined user interface – that is, they will normally input data of a particular form and output data (or perform a defined action) of a particular form, *independent of the rest of the program*.\n",
        "This is illustrated in the sketches below. Functions that a user might want to call a great many time in a row won't include `print` or `plot` statements. A function is regarded as a “black box” taking in data and giving out data. This is what the `sin` function does for example and what our `cube` function did.\n",
        "![Figure 1: function diagrams](https://raw.githubusercontent.com/PX2134/images/master/week2/functions.001.png \"Figure 1: function diagrams.\")"
      ]
    },
    {
      "cell_type": "markdown",
      "metadata": {
        "id": "xQa2kzbzG2D7"
      },
      "source": [
        "# Exercises\n",
        "This must be marked before you leave the lab. Mark weighting is in brackets.\n",
        "**Save your work to GitHub after having run all cells with `Runtime` -> `Restart and run all`. And do not change the notebook's filename.** Do add comments to your code, you'll lose points if your code is hard to understand. Graphs without labels (or units when appropriate) are not worth any point.\n",
        "\n",
        "## Exercise 0\n",
        "[0] Write a function `convert(angle)` to convert angles in degrees to radians. Write another function `recenter(angle)` to wrap angles in radian into the $(-\\pi,\\pi]$ interval. Save those two functions into a file named `anglesutils.py`.\n",
        "\n",
        "A centrifuge's loading position at $t=0\\,\\text{s}$ is $45^\\circ$ degrees, and start accelerating at $\\alpha=2^{\\circ}\\,\\text{s}^{-2}$. So it's position in degrees is given as a function of time (in seconds) by:\n",
        "\n",
        "$$\n",
        "position(t)=45+\\frac{1}{2}\\,2\\,t^2\n",
        "$$\n",
        "\n",
        "Use the `anglesutils` module you just created to plot that function from $t=0\\,\\text{s}$ to $t=30\\,\\text{s}$ in radian in the $(-\\pi,\\pi]$ interval.\n",
        "\n",
        "(this exercise is for demonstration purposes and won't be marked)"
      ]
    },
    {
      "cell_type": "code",
      "execution_count": 15,
      "metadata": {
        "colab": {
          "base_uri": "https://localhost:8080/",
          "height": 489
        },
        "id": "Q0bEIHKhkZKU",
        "outputId": "0e80861c-87fd-480d-b0ba-2454a9c0a50a"
      },
      "outputs": [
        {
          "output_type": "execute_result",
          "data": {
            "text/plain": [
              "Text(0.5, 1.0, 'Position of centrifuge')"
            ]
          },
          "metadata": {},
          "execution_count": 15
        },
        {
          "output_type": "display_data",
          "data": {
            "text/plain": [
              "<Figure size 640x480 with 1 Axes>"
            ],
            "image/png": "[encoded data removed]"
          },
          "metadata": {}
        }
      ],
      "source": [
        "import numpy as np\n",
        "import matplotlib.pyplot as plt\n",
        "\n",
        "#define angle converting function\n",
        "def convert(angle):\n",
        "  \"\"\"\n",
        "  convert an angle from degrees to radians\n",
        "  >>> convert(180)\n",
        "  3.141592654...\n",
        "  \"\"\"\n",
        "  return angle*np.pi/180\n",
        "\n",
        "#define wrap angle function\n",
        "def recenter(angle):\n",
        "  \"\"\"\n",
        "  wrap angles in radian to the (-π, π]\n",
        "  >>> recenter(4.7)\n",
        "  -1.583185307...\n",
        "  \"\"\"\n",
        "  return (angle + np.pi) % (2*np.pi) - np.pi\n",
        "\n",
        "\n",
        "#define position function\n",
        "def position(t):\n",
        "  \"\"\"\n",
        "  returns postion at time t\n",
        "  \"\"\"\n",
        "  return 45 + t**2\n",
        "\n",
        "t=np.arange(0,31,1) #makes an array of times from 0s to 30s with 1s intervals\n",
        "pos=position(t) #uses postion function to find the position of the centrifuge in degrees\n",
        "rad=convert(pos) #converts the position unit from degrees to radians\n",
        "rec=recenter(rad) #wraps the radian angles to be between -π and π\n",
        "\n",
        "#Plot graph\n",
        "plt.plot(t, rec, 'kx')\n",
        "plt.xlabel('Time (s)')\n",
        "plt.ylabel('Position (rad)')\n",
        "plt.title('Position of centrifuge')"
      ]
    },
    {
      "cell_type": "markdown",
      "metadata": {
        "id": "VOsldVLKkZKU"
      },
      "source": [
        "## Exercise 1\n",
        "\n",
        "[4] Define a function `func1(time,amplitude,frequency,phase)` which returns a sine wave (as a function of time) of chosen amplitude, frequency and phase. Test it out with different amplitude, frequency and phase values by plotting suitable graphs. Set the default values for ampliture, frequency and phase to be 1, 1 and 0, respectively."
      ]
    },
    {
      "cell_type": "code",
      "execution_count": 16,
      "metadata": {
        "colab": {
          "base_uri": "https://localhost:8080/",
          "height": 466
        },
        "id": "gekOQNgEkZKU",
        "outputId": "e27ef5be-e5a8-4c64-85e0-059e4ab7fb91"
      },
      "outputs": [
        {
          "output_type": "execute_result",
          "data": {
            "text/plain": [
              "<matplotlib.legend.Legend at 0x7dd6f454e840>"
            ]
          },
          "metadata": {},
          "execution_count": 16
        },
        {
          "output_type": "display_data",
          "data": {
            "text/plain": [
              "<Figure size 640x480 with 1 Axes>"
            ],
            "image/png": "[encoded data removed]"
          },
          "metadata": {}
        }
      ],
      "source": [
        "import numpy as np\n",
        "import matplotlib.pyplot as plt\n",
        "\n",
        "#define a function to return a sine wave\n",
        "def func1(time,amplitude,frequency,phase):\n",
        "  \"\"\"\n",
        "  returns a sine wave as a fuction of time\n",
        "  \"\"\"\n",
        "  return amplitude * np.sin(2 * np.pi * frequency * time + phase)\n",
        "\n",
        "#make a time array\n",
        "t=np.arange(0,2,0.01)\n",
        "\n",
        "#graph 1 with default values amplitude=1, frequency=1, phase=1\n",
        "default=func1(t,1,1,0)\n",
        "\n",
        "#plot graph of default values with respect to time\n",
        "plt.plot(t,default,label='default')\n",
        "plt.xlabel('Time (s)')\n",
        "plt.ylabel('Amplitude')\n",
        "\n",
        "#plot graph with different amplitude\n",
        "amplitude=func1(t,3,1,0)\n",
        "plt.plot(t,amplitude,label='amplitude=3')\n",
        "plt.xlabel('Time (s)')\n",
        "plt.ylabel('Amplitude')\n",
        "\n",
        "#plot graph with different frequency\n",
        "frequency=func1(t,1,3,0)\n",
        "plt.plot(t,frequency,label='frequency=3')\n",
        "plt.xlabel('Time (s)')\n",
        "plt.ylabel('Amplitude')\n",
        "\n",
        "#plot graph with different phase\n",
        "phase=func1(t,1,1,2)\n",
        "plt.plot(t,phase,label='phase=2')\n",
        "plt.xlabel('Time (s)')\n",
        "plt.ylabel('Amplitude')\n",
        "\n",
        "plt.legend()"
      ]
    },
    {
      "cell_type": "markdown",
      "metadata": {
        "id": "NYDoLmw5kZKU"
      },
      "source": [
        "## Exercise 2\n",
        "\n",
        "A satellite has a circular orbit around the Earth with a period $T$.\n",
        "  1. [2] Prove that its altitude $h$ above the Earth‘s surface is ($M$ is Earth’s mass and $R$ its radius):\n",
        "$$h={\\left ( \\frac{GMT^2}{4\\pi^2} \\right )}^{1/3} - R$$\n",
        "    * Write the proof in Markdown in the notebook directly, no need to use python.\n",
        "    * Follow the [markdown guide](https://colab.research.google.com/notebooks/markdown_guide.ipynb) if you need some help with Markdown.\n",
        "    * Do pay particular attention to the `Equations:` section, and the linked [LaTeX/Mathematics](https://en.wikibooks.org/wiki/LaTeX/Mathematics ) wikibook to make nicely formatted equations. You will need this for the assignments.\n",
        "  2. [2] Write a function to evaluate $h$.\n",
        "  3. [2] Write a program that requests user input of $T$ and then prints out the altitude in kilometre\n",
        "  4. [2] Hence find the altitudes of satellites that orbit the Earth once a day (‘geosynchronous’ orbit), once every 90 minutes, and once every 45 minutes. What do you conclude from the last of these calculations?"
      ]
    },
    {
      "cell_type": "markdown",
      "source": [
        "$ m \\omega^2 r = \\frac{G m M}{r^2} $ where m = mass of the satellite, M = mass of Earth, G = gravitational constant, r = radius of the satellite's orbit and $ \\omega $ = angular velocity of the satellite.\n",
        "\n",
        "$ \\omega = \\frac{2 \\pi}{T} $ where T = period of the satellite's orbit\n",
        "\n",
        "$ m (\\frac{2 \\pi}{T})^2 r = \\frac{G m M}{r^2} $\n",
        "\n",
        "$ \\frac{4 \\pi^2}{T^2} r = \\frac{G M}{r^2} $\n",
        "\n",
        "$ r^3 = \\frac{G M T^2}{4 \\pi^2} $\n",
        "\n",
        "$ r = (\\frac{G M T^2}{4 \\pi^2})^\\frac{1}{3} $\n",
        "\n",
        "$ r = h + R $ where h = distance between Earth's surface and the satellite and R = Earth's radius\n",
        "\n",
        "$ h = (\\frac{G M T^2}{4 \\pi^2})^\\frac{1}{3} - R $"
      ],
      "metadata": {
        "id": "daW6IAJ5ko9Y"
      }
    },
    {
      "cell_type": "code",
      "execution_count": 17,
      "metadata": {
        "colab": {
          "base_uri": "https://localhost:8080/"
        },
        "id": "5MvAPdrokZKU",
        "outputId": "dc9c5485-dec4-45d2-87ea-5ba076eb75cb"
      },
      "outputs": [
        {
          "output_type": "stream",
          "name": "stdout",
          "text": [
            "Please enter the orbital period in seconds \n",
            "2700\n",
            "The altitude of the satellite is -2203.5541320819016 km\n"
          ]
        }
      ],
      "source": [
        "import numpy as np\n",
        "import matplotlib.pyplot as plt\n",
        "\n",
        "#define function to evaluate h\n",
        "def h(T):\n",
        "  \"\"\"\n",
        "  input orbital period in seconds\n",
        "  returns the altitude of the satellite in kilometres\n",
        "  \"\"\"\n",
        "  G=6.67e-11 # Nm^2/kg^\n",
        "  M=6e24 # kg\n",
        "  R=6400e3 # m\n",
        "  return (((G*M*T**2)/(4*np.pi**2))**(1/3) - R)/1000\n",
        "\n",
        "T=int(input('Please enter the orbital period in seconds \\n'))\n",
        "print('The altitude of the satellite is',h(T),'km')"
      ]
    },
    {
      "cell_type": "markdown",
      "metadata": {
        "id": "rwvl-vl6kZKU"
      },
      "source": [
        "## Exercise 3\n",
        "\n",
        "  1. [4] Write a function `linfit(x,y)` to perform a least squares fit of data using the method described last year in PX1224 week 4 to return estimates of slope and intercept (and their errors).\n",
        "  2. [2] Put your functions into your own package, using a suitable file name. Type the code you want to be in the package (including comments!) in a cell of the notebook, pick a name for the file and add `%%writefile <file_name>.py` at the top of the cell to have the notebook create the file.\n",
        "  3. [2] Test out your package by importing it, defining some test data and plotting a graph of the data and fitted straight line. (Label the axes and give the graph a title.)\n",
        "\n",
        "**IMPORTANT**: The `linfit` function itself must be self contained. It must only take in the x- and y-data, and return m, dm, c and dc. It must not do anything else, such as print or plot data - that should all be done outside the function."
      ]
    },
    {
      "cell_type": "code",
      "execution_count": 20,
      "metadata": {
        "colab": {
          "base_uri": "https://localhost:8080/"
        },
        "id": "Rg1sk28tkZKU",
        "outputId": "6d445720-e18d-4d10-f630-b8d93469df49"
      },
      "outputs": [
        {
          "output_type": "stream",
          "name": "stdout",
          "text": [
            "Writing LineBestFit.py\n"
          ]
        }
      ],
      "source": [
        "%%writefile LineBestFit.py\n",
        "import numpy as np\n",
        "\n",
        "#define linfit function\n",
        "def linfit(x,y):\n",
        "  \"\"\"\n",
        "  take in the x and y data and return m, dm, c and,dc\n",
        "  \"\"\"\n",
        "  n=len(x) # used to calculate d and dm and dc\n",
        "  D = np.sum(x**2) - 1/n * np.sum(x)**2 # used to calculate dm and dc\n",
        "  x_bar = np.mean(x) # mean of x\n",
        "  p_coeff, residuals, _, _, _ = np.polyfit(x, y, 1, full=True) # calculates the slope and intercept\n",
        "  dm_squared=1/(n-2)*residuals/D\n",
        "  dc_squared=1/(n-2)*(D/n + x_bar**2)*residuals/D\n",
        "  dm=(dm_squared)**(1/2) # calculates error in the slope\n",
        "  dc=(dc_squared)**(1/2) # calculates error in the intercept\n",
        "  return p_coeff[0], dm, p_coeff[1], dc"
      ]
    },
    {
      "cell_type": "code",
      "source": [
        "import LineBestFit as linfit\n",
        "import numpy as np\n",
        "import matplotlib.pyplot as plt\n",
        "#Data from experiment in arrays\n",
        "x=np.array([0,0.1,0.2,0.4,0.5,0.6,0.8])\n",
        "y=np.array([0.055,0.074,0.089,0.124,0.135,0.181,0.193])\n",
        "\n",
        "gradient, dm, yintercept, dc = linfit.linfit(x,y)\n",
        "\n",
        "#Plot data\n",
        "plt.plot(x, y, 'kx', markersize=10, label='data')\n",
        "\n",
        "#Fit line for data\n",
        "p_coeff=np.polyfit(x, y, 1)\n",
        "p=np.poly1d(p_coeff)\n",
        "x=np.linspace( min(x), max(x), 100)\n",
        "plt.plot(x, p(x), label='Best fit line')\n",
        "\n",
        "#Title/label and legend\n",
        "plt.title( \"Hooke's Law Graph\" )\n",
        "plt.xlabel( 'Mass (kg)' )\n",
        "plt.ylabel( 'Length (m)' )\n",
        "plt.legend( loc='best')\n",
        "\n",
        "#Formatting\n",
        "plt.grid()\n",
        "\n",
        "print(f\"the gradient is {gradient} +/- {dm}\")\n",
        "print(f\"the y-intercept is {yintercept} +/- {dc}\")\n"
      ],
      "metadata": {
        "colab": {
          "base_uri": "https://localhost:8080/",
          "height": 506
        },
        "id": "VbtnAMQokyrk",
        "outputId": "c890037d-491a-4f82-d137-464ea3fbf597"
      },
      "execution_count": 21,
      "outputs": [
        {
          "output_type": "stream",
          "name": "stdout",
          "text": [
            "the gradient is 0.1804913294797688 +/- [0.0138388]\n",
            "the y-intercept is 0.054531791907514414 +/- [0.00632013]\n"
          ]
        },
        {
          "output_type": "display_data",
          "data": {
            "text/plain": [
              "<Figure size 640x480 with 1 Axes>"
            ],
            "image/png": "[encoded data removed]"
          },
          "metadata": {}
        }
      ]
    },
    {
      "cell_type": "code",
      "source": [],
      "metadata": {
        "id": "les5Q-mtk2Xj"
      },
      "execution_count": null,
      "outputs": []
    }
  ],
  "metadata": {
    "colab": {
      "name": "Functions.ipynb",
      "provenance": [],
      "toc_visible": true,
      "include_colab_link": true
    },
    "kernelspec": {
      "display_name": "Python 3",
      "language": "python",
      "name": "python3"
    },
    "language_info": {
      "codemirror_mode": {
        "name": "ipython",
        "version": 3
      },
      "file_extension": ".py",
      "mimetype": "text/x-python",
      "name": "python",
      "nbconvert_exporter": "python",
      "pygments_lexer": "ipython3",
      "version": "3.7.10"
    },
    "latex_metadata": {
      "affiliation": "Cardiff University",
      "author": "Vivien Raymond",
      "title": "Functions"
    }
  },
  "nbformat": 4,
  "nbformat_minor": 0
}